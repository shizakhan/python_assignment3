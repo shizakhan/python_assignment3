{
 "cells": [
  {
   "cell_type": "markdown",
   "metadata": {},
   "source": [
    "# JAVAN PAKISTAN\n",
    "PYTHON PROHRAMMING LANGUAGE\n",
    "ASSIGNMENT 03\n",
    "SHIZA KHAN"
   ]
  },
  {
   "cell_type": "code",
   "execution_count": 2,
   "metadata": {},
   "outputs": [
    {
     "name": "stdout",
     "output_type": "stream",
     "text": [
      "Twinkle,twinkle,little star, \n",
      "\tHow i wonder what you are! \n",
      "\t\tUp above the world so high, \n",
      "\t\tLike a diamond in the sky. \n",
      "Twinkle,twinkle,little star, \n",
      "\tHow i wonder what you are!\n"
     ]
    }
   ],
   "source": [
    "#Question 01\n",
    "#writing a python program for printing a specific format\n",
    "print(\"Twinkle,twinkle,little star, \\n\\tHow i wonder what you are! \\n\\t\\tUp above the world so high, \\n\\t\\tLike a diamond in the sky. \\nTwinkle,twinkle,little star, \\n\\tHow i wonder what you are!\")"
   ]
  },
  {
   "cell_type": "code",
   "execution_count": 4,
   "metadata": {},
   "outputs": [
    {
     "name": "stdout",
     "output_type": "stream",
     "text": [
      "3.8.5\n"
     ]
    }
   ],
   "source": [
    "#Question 02\n",
    "#writing python programme to print the python version\n",
    "from platform import python_version\n",
    "\n",
    "print(python_version())"
   ]
  },
  {
   "cell_type": "code",
   "execution_count": 1,
   "metadata": {},
   "outputs": [
    {
     "name": "stdout",
     "output_type": "stream",
     "text": [
      "time.struct_time(tm_year=2021, tm_mon=10, tm_mday=23, tm_hour=2, tm_min=0, tm_sec=6, tm_wday=5, tm_yday=296, tm_isdst=0)\n"
     ]
    }
   ],
   "source": [
    "#Question 03\n",
    "#Writing a python programme to print current date and time\n",
    "import time\n",
    "print(time.localtime())\n"
   ]
  },
  {
   "cell_type": "code",
   "execution_count": 2,
   "metadata": {},
   "outputs": [
    {
     "data": {
      "text/plain": [
       "'Saturday Oct/23/21 02 :03 AM'"
      ]
     },
     "execution_count": 2,
     "metadata": {},
     "output_type": "execute_result"
    }
   ],
   "source": [
    "#Another way to print current date and time \n",
    "time.strftime('%A %b/%d/%y %I :%M %p', time.localtime())"
   ]
  },
  {
   "cell_type": "code",
   "execution_count": 5,
   "metadata": {},
   "outputs": [
    {
     "name": "stdout",
     "output_type": "stream",
     "text": [
      "Enter radius: 5\n",
      "The area of a circle is: 78.53981633974483\n"
     ]
    }
   ],
   "source": [
    "#Question 04\n",
    "#taking radius as an input from the user and computing the area of a circle\n",
    "import math\n",
    "radius = eval(input(\"Enter radius: \"))\n",
    "Area_of_circle = math.pi * radius**2\n",
    "print(\"The area of a circle is: \" + str(Area_of_circle))\n"
   ]
  },
  {
   "cell_type": "code",
   "execution_count": 7,
   "metadata": {},
   "outputs": [
    {
     "name": "stdout",
     "output_type": "stream",
     "text": [
      "Enter your first name: shiza\n",
      "Enter your last name: khan\n",
      "khan shiza\n"
     ]
    }
   ],
   "source": [
    "#Question 05\n",
    "#writing a program that accepts the user first and last name and print them in reverse order with space between them\n",
    "fname = input(\"Enter your first name: \")\n",
    "lname = input(\"Enter your last name: \")\n",
    "print (lname + \" \" + fname)"
   ]
  },
  {
   "cell_type": "code",
   "execution_count": 9,
   "metadata": {},
   "outputs": [
    {
     "name": "stdout",
     "output_type": "stream",
     "text": [
      "Enter number 1: 5\n",
      "Enter number 2: 7\n",
      "12\n"
     ]
    }
   ],
   "source": [
    "#Question 06\n",
    "#Writing a python program that take 2 inputs from user and print them addition\n",
    "num1 = eval(input(\"Enter number 1: \"))\n",
    "num2 = eval(input(\"Enter number 2: \"))\n",
    "print(num1 + num2)"
   ]
  },
  {
   "cell_type": "code",
   "execution_count": 11,
   "metadata": {},
   "outputs": [
    {
     "name": "stdout",
     "output_type": "stream",
     "text": [
      "Enter your name: shiza khan\n",
      "Enter your islamiyat marks: 75\n",
      "Enter your english marks: 87\n",
      "Enter your maths marks: 98\n",
      "Enter your urdu marks: 66\n",
      "Enter your science marks: 92\n",
      "Student_name\t Total marks\t obtained marks\t percentage\t\n",
      "shiza khan\t 500\t\t 418\t\t 83.6\n",
      "Congradulations! you've got A+ grade\n"
     ]
    }
   ],
   "source": [
    "#Question 07\n",
    "#program which take 5 inputs from user for different subject's marks, total it and generate marksheet using grades\n",
    "name = input(\"Enter your name: \")\n",
    "isl = eval(input(\"Enter your islamiyat marks: \"))\n",
    "eng = eval(input(\"Enter your english marks: \"))\n",
    "maths = eval(input(\"Enter your maths marks: \"))\n",
    "urdu = eval(input (\"Enter your urdu marks: \"))\n",
    "science = eval(input(\"Enter your science marks: \"))\n",
    "obtained_marks = isl + eng + maths + urdu + science\n",
    "total_marks = 500\n",
    "percentage = (obtained_marks/total_marks)*100\n",
    "print(\"Student_name\\t Total marks\\t obtained marks\\t percentage\\t\")\n",
    "print(name + \"\\t\" +\" \" + str(total_marks) + \"\\t\\t\" +\" \"+ str(obtained_marks) + \"\\t\\t\" +\" \"+ str(percentage))\n",
    "if percentage <=100 and percentage >=80:\n",
    "    print(\"Congradulations! you've got A+ grade\")\n",
    "elif percentage <80 and percentage >= 70:\n",
    "    print(\"Congradulations! you've got A grade \")\n",
    "elif percentage <70 and percentage >=60:\n",
    "    print(\"you've got B grade\")\n",
    "elif percentage <60 and percentage >=50:\n",
    "    print(\"you've got C grade\")\n",
    "elif percentage <50 and percentage >=40:\n",
    "    print (\"you've got D grade \")\n",
    "elif percentage <40 and percentage >=0:\n",
    "    print (\"Sorry! you've failed\")\n",
    "elif percentage <0:\n",
    "    print(\"Please enter correct percentage. Percentage should be greater than zero\")\n",
    "else:\n",
    "    print(\"Percentage should be less than 100\")"
   ]
  },
  {
   "cell_type": "code",
   "execution_count": 14,
   "metadata": {},
   "outputs": [
    {
     "name": "stdout",
     "output_type": "stream",
     "text": [
      "Enter a number: 5\n",
      "The given number is odd\n"
     ]
    }
   ],
   "source": [
    "#Question 08\n",
    "#Writing a program which take input from user and identify that whether the input number is odd or even\n",
    "num = int(input(\"Enter a number: \"))\n",
    "if num%2 == 0:\n",
    "    print(\"The given number is even\")\n",
    "else:\n",
    "    print(\"The given number is odd\")"
   ]
  },
  {
   "cell_type": "code",
   "execution_count": 18,
   "metadata": {},
   "outputs": [
    {
     "name": "stdout",
     "output_type": "stream",
     "text": [
      "The length of the list is: 5\n"
     ]
    }
   ],
   "source": [
    "#Question 09\n",
    "#writing a program which print length of the list\n",
    "lst = ['cat','dog','cow','goat','parrot']\n",
    "x = len(lst)\n",
    "print(\"The length of the list is: \" + str(x))"
   ]
  },
  {
   "cell_type": "code",
   "execution_count": 44,
   "metadata": {},
   "outputs": [
    {
     "name": "stdout",
     "output_type": "stream",
     "text": [
      "The sum of all the numeric item in the list is:  70\n"
     ]
    }
   ],
   "source": [
    "# Question 10\n",
    "#Write a program to sum all the numeric item in the list\n",
    "lst = [55,'cat',7,'dog',8]\n",
    "lst2 = []\n",
    "for x in lst:\n",
    "    if type(x) == int:\n",
    "        lst2.append(x)\n",
    "        \n",
    "print(\"The sum of all the numeric item in the list is: \", sum(lst2))"
   ]
  },
  {
   "cell_type": "code",
   "execution_count": 51,
   "metadata": {},
   "outputs": [
    {
     "name": "stdout",
     "output_type": "stream",
     "text": [
      "largest number from the numeric list is:  99\n"
     ]
    }
   ],
   "source": [
    "#Question 11\n",
    "#writing a program to get the largest number from the list\n",
    "lst = [8,9,3,10,5,55,76,34,99]\n",
    "print(\"largest number from the numeric list is: \",max(lst))\n"
   ]
  },
  {
   "cell_type": "code",
   "execution_count": 47,
   "metadata": {},
   "outputs": [
    {
     "name": "stdout",
     "output_type": "stream",
     "text": [
      "1\n",
      "1\n",
      "2\n",
      "3\n",
      "4\n"
     ]
    }
   ],
   "source": [
    "#Question 12\n",
    "#write a progra that print out all the elements of the the list that are less than 5\n",
    "a = [1,1,2,3,5,8,13,21,34,4,55,89]\n",
    "for x in a:\n",
    "    if x < 5:\n",
    "        print(x)"
   ]
  },
  {
   "cell_type": "code",
   "execution_count": null,
   "metadata": {},
   "outputs": [],
   "source": []
  }
 ],
 "metadata": {
  "kernelspec": {
   "display_name": "Python 3",
   "language": "python",
   "name": "python3"
  },
  "language_info": {
   "codemirror_mode": {
    "name": "ipython",
    "version": 3
   },
   "file_extension": ".py",
   "mimetype": "text/x-python",
   "name": "python",
   "nbconvert_exporter": "python",
   "pygments_lexer": "ipython3",
   "version": "3.8.5"
  }
 },
 "nbformat": 4,
 "nbformat_minor": 4
}
